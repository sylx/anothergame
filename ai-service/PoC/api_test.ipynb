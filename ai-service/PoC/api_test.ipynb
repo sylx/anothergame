{
 "cells": [
  {
   "cell_type": "code",
   "execution_count": 22,
   "metadata": {},
   "outputs": [
    {
     "data": {
      "text/plain": [
       "<Response [200]>"
      ]
     },
     "execution_count": 22,
     "metadata": {},
     "output_type": "execute_result"
    }
   ],
   "source": [
    "import requests\n",
    "\n",
    "url=\"http://localhost:8000/images/generate\"\n",
    "test_data = {\n",
    "    \"prompt\": \"a girl,no background,high resolution,smiling\",\n",
    "    \"negative_prompt\": \"low resolution\",\n",
    "    \"seed\": 42,\n",
    "    \"removeBg\": True\n",
    "}\n",
    "response = requests.post(url, json=test_data)\n",
    "response"
   ]
  },
  {
   "cell_type": "code",
   "execution_count": 23,
   "metadata": {},
   "outputs": [
    {
     "data": {
      "text/plain": [
       "{'path': '/images/7418fed5-ac8a-40a9-8319-f190c76c21b5.webp', 'result': True}"
      ]
     },
     "execution_count": 23,
     "metadata": {},
     "output_type": "execute_result"
    }
   ],
   "source": [
    "response.json()"
   ]
  },
  {
   "cell_type": "code",
   "execution_count": 20,
   "metadata": {},
   "outputs": [
    {
     "data": {
      "text/plain": [
       "<Response [200]>"
      ]
     },
     "execution_count": 20,
     "metadata": {},
     "output_type": "execute_result"
    }
   ],
   "source": [
    "import requests\n",
    "\n",
    "url=\"http://localhost:8000/voices/generate\"\n",
    "test_data = {\n",
    "    \"text\": \"こんにちは！\",\n",
    "    \"speaker_id\": 1\n",
    "}\n",
    "response = requests.post(url, json=test_data)\n",
    "response"
   ]
  },
  {
   "cell_type": "code",
   "execution_count": 21,
   "metadata": {},
   "outputs": [
    {
     "data": {
      "text/plain": [
       "{'path': '/voices/e0a605ce-90f5-4161-b289-bf7c3668b4c3.wav', 'result': True}"
      ]
     },
     "execution_count": 21,
     "metadata": {},
     "output_type": "execute_result"
    }
   ],
   "source": [
    "response.json()"
   ]
  },
  {
   "cell_type": "code",
   "execution_count": null,
   "metadata": {},
   "outputs": [],
   "source": [
    "url=\"http://localhost:8000/musics/generate\"\n",
    "test_data = {\n",
    "    \"prompt\": \"120bpm,rock,organ,Cmaj7\",\n",
    "}\n",
    "response = requests.post(url, json=test_data)\n",
    "response"
   ]
  }
 ],
 "metadata": {
  "kernelspec": {
   "display_name": ".venv",
   "language": "python",
   "name": "python3"
  },
  "language_info": {
   "codemirror_mode": {
    "name": "ipython",
    "version": 3
   },
   "file_extension": ".py",
   "mimetype": "text/x-python",
   "name": "python",
   "nbconvert_exporter": "python",
   "pygments_lexer": "ipython3",
   "version": "3.8.10"
  }
 },
 "nbformat": 4,
 "nbformat_minor": 2
}
